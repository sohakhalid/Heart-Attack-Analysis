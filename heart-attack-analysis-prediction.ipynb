{
 "cells": [
  {
   "cell_type": "code",
   "execution_count": 1,
   "id": "a0433490",
   "metadata": {
    "_cell_guid": "b1076dfc-b9ad-4769-8c92-a6c4dae69d19",
    "_uuid": "8f2839f25d086af736a60e9eeb907d3b93b6e0e5",
    "execution": {
     "iopub.execute_input": "2022-11-22T18:27:09.010442Z",
     "iopub.status.busy": "2022-11-22T18:27:09.009330Z",
     "iopub.status.idle": "2022-11-22T18:27:09.030919Z",
     "shell.execute_reply": "2022-11-22T18:27:09.029640Z"
    },
    "papermill": {
     "duration": 0.039876,
     "end_time": "2022-11-22T18:27:09.033727",
     "exception": false,
     "start_time": "2022-11-22T18:27:08.993851",
     "status": "completed"
    },
    "tags": []
   },
   "outputs": [
    {
     "name": "stdout",
     "output_type": "stream",
     "text": [
      "/kaggle/input/heart-attack-analysis-prediction-dataset/o2Saturation.csv\n",
      "/kaggle/input/heart-attack-analysis-prediction-dataset/heart.csv\n"
     ]
    }
   ],
   "source": [
    "# This Python 3 environment comes with many helpful analytics libraries installed\n",
    "# It is defined by the kaggle/python Docker image: https://github.com/kaggle/docker-python\n",
    "# For example, here's several helpful packages to load\n",
    "\n",
    "import numpy as np # linear algebra\n",
    "import pandas as pd # data processing, CSV file I/O (e.g. pd.read_csv)\n",
    "\n",
    "# Input data files are available in the read-only \"../input/\" directory\n",
    "# For example, running this (by clicking run or pressing Shift+Enter) will list all files under the input directory\n",
    "\n",
    "import os\n",
    "for dirname, _, filenames in os.walk('/kaggle/input'):\n",
    "    for filename in filenames:\n",
    "        print(os.path.join(dirname, filename))\n",
    "\n",
    "# You can write up to 20GB to the current directory (/kaggle/working/) that gets preserved as output when you create a version using \"Save & Run All\" \n",
    "# You can also write temporary files to /kaggle/temp/, but they won't be saved outside of the current session"
   ]
  },
  {
   "cell_type": "code",
   "execution_count": 2,
   "id": "0704c9dc",
   "metadata": {
    "execution": {
     "iopub.execute_input": "2022-11-22T18:27:09.062606Z",
     "iopub.status.busy": "2022-11-22T18:27:09.061813Z",
     "iopub.status.idle": "2022-11-22T18:27:09.090909Z",
     "shell.execute_reply": "2022-11-22T18:27:09.089862Z"
    },
    "papermill": {
     "duration": 0.047617,
     "end_time": "2022-11-22T18:27:09.093936",
     "exception": false,
     "start_time": "2022-11-22T18:27:09.046319",
     "status": "completed"
    },
    "tags": []
   },
   "outputs": [],
   "source": [
    "df= pd.read_csv('/kaggle/input/heart-attack-analysis-prediction-dataset/heart.csv')\n",
    "df1= pd.read_csv('/kaggle/input/heart-attack-analysis-prediction-dataset/o2Saturation.csv')"
   ]
  },
  {
   "cell_type": "markdown",
   "id": "3e5674a4",
   "metadata": {
    "papermill": {
     "duration": 0.011701,
     "end_time": "2022-11-22T18:27:09.118489",
     "exception": false,
     "start_time": "2022-11-22T18:27:09.106788",
     "status": "completed"
    },
    "tags": []
   },
   "source": [
    "**About Dataset **\n",
    "\n",
    "Age : Age of the patient\n",
    "\n",
    "Sex : Sex of the patient\n",
    "\n",
    "exang: exercise induced angina (1 = yes; 0 = no)\n",
    "\n",
    "ca: number of major vessels (0-3)\n",
    "\n",
    "cp : Chest Pain type chest pain type\n",
    "\n",
    "Value 1: typical angina\n",
    "Value 2: atypical angina\n",
    "Value 3: non-anginal pain\n",
    "Value 4: asymptomatic\n",
    "trtbps : resting blood pressure (in mm Hg)\n",
    "\n",
    "chol : cholestoral in mg/dl fetched via BMI sensor\n",
    "\n",
    "fbs : (fasting blood sugar > 120 mg/dl) (1 = true; 0 = false)\n",
    "\n",
    "rest_ecg : resting electrocardiographic results\n",
    "\n",
    "Value 0: normal\n",
    "Value 1: having ST-T wave abnormality (T wave inversions and/or ST elevation or depression of > 0.05 mV)\n",
    "Value 2: showing probable or definite left ventricular hypertrophy by Estes' criteria\n",
    "thalach : maximum heart rate achieved\n",
    "\n",
    "target : 0= less chance of heart attack 1= more chance of heart attack"
   ]
  },
  {
   "cell_type": "code",
   "execution_count": 3,
   "id": "f5ce8862",
   "metadata": {
    "execution": {
     "iopub.execute_input": "2022-11-22T18:27:09.144854Z",
     "iopub.status.busy": "2022-11-22T18:27:09.144083Z",
     "iopub.status.idle": "2022-11-22T18:27:09.174361Z",
     "shell.execute_reply": "2022-11-22T18:27:09.173134Z"
    },
    "papermill": {
     "duration": 0.046328,
     "end_time": "2022-11-22T18:27:09.176851",
     "exception": false,
     "start_time": "2022-11-22T18:27:09.130523",
     "status": "completed"
    },
    "tags": []
   },
   "outputs": [
    {
     "data": {
      "text/html": [
       "<div>\n",
       "<style scoped>\n",
       "    .dataframe tbody tr th:only-of-type {\n",
       "        vertical-align: middle;\n",
       "    }\n",
       "\n",
       "    .dataframe tbody tr th {\n",
       "        vertical-align: top;\n",
       "    }\n",
       "\n",
       "    .dataframe thead th {\n",
       "        text-align: right;\n",
       "    }\n",
       "</style>\n",
       "<table border=\"1\" class=\"dataframe\">\n",
       "  <thead>\n",
       "    <tr style=\"text-align: right;\">\n",
       "      <th></th>\n",
       "      <th>age</th>\n",
       "      <th>sex</th>\n",
       "      <th>cp</th>\n",
       "      <th>trtbps</th>\n",
       "      <th>chol</th>\n",
       "      <th>fbs</th>\n",
       "      <th>restecg</th>\n",
       "      <th>thalachh</th>\n",
       "      <th>exng</th>\n",
       "      <th>oldpeak</th>\n",
       "      <th>slp</th>\n",
       "      <th>caa</th>\n",
       "      <th>thall</th>\n",
       "      <th>output</th>\n",
       "    </tr>\n",
       "  </thead>\n",
       "  <tbody>\n",
       "    <tr>\n",
       "      <th>0</th>\n",
       "      <td>63</td>\n",
       "      <td>1</td>\n",
       "      <td>3</td>\n",
       "      <td>145</td>\n",
       "      <td>233</td>\n",
       "      <td>1</td>\n",
       "      <td>0</td>\n",
       "      <td>150</td>\n",
       "      <td>0</td>\n",
       "      <td>2.3</td>\n",
       "      <td>0</td>\n",
       "      <td>0</td>\n",
       "      <td>1</td>\n",
       "      <td>1</td>\n",
       "    </tr>\n",
       "    <tr>\n",
       "      <th>1</th>\n",
       "      <td>37</td>\n",
       "      <td>1</td>\n",
       "      <td>2</td>\n",
       "      <td>130</td>\n",
       "      <td>250</td>\n",
       "      <td>0</td>\n",
       "      <td>1</td>\n",
       "      <td>187</td>\n",
       "      <td>0</td>\n",
       "      <td>3.5</td>\n",
       "      <td>0</td>\n",
       "      <td>0</td>\n",
       "      <td>2</td>\n",
       "      <td>1</td>\n",
       "    </tr>\n",
       "    <tr>\n",
       "      <th>2</th>\n",
       "      <td>41</td>\n",
       "      <td>0</td>\n",
       "      <td>1</td>\n",
       "      <td>130</td>\n",
       "      <td>204</td>\n",
       "      <td>0</td>\n",
       "      <td>0</td>\n",
       "      <td>172</td>\n",
       "      <td>0</td>\n",
       "      <td>1.4</td>\n",
       "      <td>2</td>\n",
       "      <td>0</td>\n",
       "      <td>2</td>\n",
       "      <td>1</td>\n",
       "    </tr>\n",
       "    <tr>\n",
       "      <th>3</th>\n",
       "      <td>56</td>\n",
       "      <td>1</td>\n",
       "      <td>1</td>\n",
       "      <td>120</td>\n",
       "      <td>236</td>\n",
       "      <td>0</td>\n",
       "      <td>1</td>\n",
       "      <td>178</td>\n",
       "      <td>0</td>\n",
       "      <td>0.8</td>\n",
       "      <td>2</td>\n",
       "      <td>0</td>\n",
       "      <td>2</td>\n",
       "      <td>1</td>\n",
       "    </tr>\n",
       "    <tr>\n",
       "      <th>4</th>\n",
       "      <td>57</td>\n",
       "      <td>0</td>\n",
       "      <td>0</td>\n",
       "      <td>120</td>\n",
       "      <td>354</td>\n",
       "      <td>0</td>\n",
       "      <td>1</td>\n",
       "      <td>163</td>\n",
       "      <td>1</td>\n",
       "      <td>0.6</td>\n",
       "      <td>2</td>\n",
       "      <td>0</td>\n",
       "      <td>2</td>\n",
       "      <td>1</td>\n",
       "    </tr>\n",
       "  </tbody>\n",
       "</table>\n",
       "</div>"
      ],
      "text/plain": [
       "   age  sex  cp  trtbps  chol  fbs  restecg  thalachh  exng  oldpeak  slp  \\\n",
       "0   63    1   3     145   233    1        0       150     0      2.3    0   \n",
       "1   37    1   2     130   250    0        1       187     0      3.5    0   \n",
       "2   41    0   1     130   204    0        0       172     0      1.4    2   \n",
       "3   56    1   1     120   236    0        1       178     0      0.8    2   \n",
       "4   57    0   0     120   354    0        1       163     1      0.6    2   \n",
       "\n",
       "   caa  thall  output  \n",
       "0    0      1       1  \n",
       "1    0      2       1  \n",
       "2    0      2       1  \n",
       "3    0      2       1  \n",
       "4    0      2       1  "
      ]
     },
     "execution_count": 3,
     "metadata": {},
     "output_type": "execute_result"
    }
   ],
   "source": [
    "df.head()"
   ]
  },
  {
   "cell_type": "code",
   "execution_count": 4,
   "id": "e9041432",
   "metadata": {
    "execution": {
     "iopub.execute_input": "2022-11-22T18:27:09.203568Z",
     "iopub.status.busy": "2022-11-22T18:27:09.202780Z",
     "iopub.status.idle": "2022-11-22T18:27:09.212739Z",
     "shell.execute_reply": "2022-11-22T18:27:09.211743Z"
    },
    "papermill": {
     "duration": 0.025891,
     "end_time": "2022-11-22T18:27:09.215025",
     "exception": false,
     "start_time": "2022-11-22T18:27:09.189134",
     "status": "completed"
    },
    "tags": []
   },
   "outputs": [
    {
     "data": {
      "text/html": [
       "<div>\n",
       "<style scoped>\n",
       "    .dataframe tbody tr th:only-of-type {\n",
       "        vertical-align: middle;\n",
       "    }\n",
       "\n",
       "    .dataframe tbody tr th {\n",
       "        vertical-align: top;\n",
       "    }\n",
       "\n",
       "    .dataframe thead th {\n",
       "        text-align: right;\n",
       "    }\n",
       "</style>\n",
       "<table border=\"1\" class=\"dataframe\">\n",
       "  <thead>\n",
       "    <tr style=\"text-align: right;\">\n",
       "      <th></th>\n",
       "      <th>98.6</th>\n",
       "    </tr>\n",
       "  </thead>\n",
       "  <tbody>\n",
       "    <tr>\n",
       "      <th>0</th>\n",
       "      <td>98.6</td>\n",
       "    </tr>\n",
       "    <tr>\n",
       "      <th>1</th>\n",
       "      <td>98.6</td>\n",
       "    </tr>\n",
       "    <tr>\n",
       "      <th>2</th>\n",
       "      <td>98.6</td>\n",
       "    </tr>\n",
       "    <tr>\n",
       "      <th>3</th>\n",
       "      <td>98.1</td>\n",
       "    </tr>\n",
       "    <tr>\n",
       "      <th>4</th>\n",
       "      <td>97.5</td>\n",
       "    </tr>\n",
       "  </tbody>\n",
       "</table>\n",
       "</div>"
      ],
      "text/plain": [
       "   98.6\n",
       "0  98.6\n",
       "1  98.6\n",
       "2  98.6\n",
       "3  98.1\n",
       "4  97.5"
      ]
     },
     "execution_count": 4,
     "metadata": {},
     "output_type": "execute_result"
    }
   ],
   "source": [
    "df1.head()"
   ]
  },
  {
   "cell_type": "markdown",
   "id": "024e6806",
   "metadata": {
    "papermill": {
     "duration": 0.012117,
     "end_time": "2022-11-22T18:27:09.239542",
     "exception": false,
     "start_time": "2022-11-22T18:27:09.227425",
     "status": "completed"
    },
    "tags": []
   },
   "source": [
    "# **EDA**\n",
    "\n",
    "Let's start with exploring the features which influence the output "
   ]
  },
  {
   "cell_type": "markdown",
   "id": "56cc1158",
   "metadata": {
    "papermill": {
     "duration": 0.012151,
     "end_time": "2022-11-22T18:27:09.264162",
     "exception": false,
     "start_time": "2022-11-22T18:27:09.252011",
     "status": "completed"
    },
    "tags": []
   },
   "source": [
    "\n",
    "Data types of df"
   ]
  },
  {
   "cell_type": "code",
   "execution_count": 5,
   "id": "d8dda8a5",
   "metadata": {
    "execution": {
     "iopub.execute_input": "2022-11-22T18:27:09.292182Z",
     "iopub.status.busy": "2022-11-22T18:27:09.291410Z",
     "iopub.status.idle": "2022-11-22T18:27:09.300078Z",
     "shell.execute_reply": "2022-11-22T18:27:09.298921Z"
    },
    "papermill": {
     "duration": 0.025932,
     "end_time": "2022-11-22T18:27:09.302617",
     "exception": false,
     "start_time": "2022-11-22T18:27:09.276685",
     "status": "completed"
    },
    "tags": []
   },
   "outputs": [
    {
     "data": {
      "text/plain": [
       "age           int64\n",
       "sex           int64\n",
       "cp            int64\n",
       "trtbps        int64\n",
       "chol          int64\n",
       "fbs           int64\n",
       "restecg       int64\n",
       "thalachh      int64\n",
       "exng          int64\n",
       "oldpeak     float64\n",
       "slp           int64\n",
       "caa           int64\n",
       "thall         int64\n",
       "output        int64\n",
       "dtype: object"
      ]
     },
     "execution_count": 5,
     "metadata": {},
     "output_type": "execute_result"
    }
   ],
   "source": [
    "df.dtypes"
   ]
  },
  {
   "cell_type": "code",
   "execution_count": 6,
   "id": "0c29403d",
   "metadata": {
    "execution": {
     "iopub.execute_input": "2022-11-22T18:27:09.332258Z",
     "iopub.status.busy": "2022-11-22T18:27:09.331504Z",
     "iopub.status.idle": "2022-11-22T18:27:09.340750Z",
     "shell.execute_reply": "2022-11-22T18:27:09.339672Z"
    },
    "papermill": {
     "duration": 0.025413,
     "end_time": "2022-11-22T18:27:09.343096",
     "exception": false,
     "start_time": "2022-11-22T18:27:09.317683",
     "status": "completed"
    },
    "tags": []
   },
   "outputs": [
    {
     "data": {
      "text/plain": [
       "age         0\n",
       "sex         0\n",
       "cp          0\n",
       "trtbps      0\n",
       "chol        0\n",
       "fbs         0\n",
       "restecg     0\n",
       "thalachh    0\n",
       "exng        0\n",
       "oldpeak     0\n",
       "slp         0\n",
       "caa         0\n",
       "thall       0\n",
       "output      0\n",
       "dtype: int64"
      ]
     },
     "execution_count": 6,
     "metadata": {},
     "output_type": "execute_result"
    }
   ],
   "source": [
    "#checking for null values\n",
    "\n",
    "df.isnull().sum()"
   ]
  },
  {
   "cell_type": "code",
   "execution_count": 7,
   "id": "00eb9b7e",
   "metadata": {
    "execution": {
     "iopub.execute_input": "2022-11-22T18:27:09.370255Z",
     "iopub.status.busy": "2022-11-22T18:27:09.369595Z",
     "iopub.status.idle": "2022-11-22T18:27:09.382408Z",
     "shell.execute_reply": "2022-11-22T18:27:09.381560Z"
    },
    "papermill": {
     "duration": 0.029089,
     "end_time": "2022-11-22T18:27:09.384695",
     "exception": false,
     "start_time": "2022-11-22T18:27:09.355606",
     "status": "completed"
    },
    "tags": []
   },
   "outputs": [
    {
     "data": {
      "text/plain": [
       "1    165\n",
       "0    138\n",
       "Name: output, dtype: int64"
      ]
     },
     "execution_count": 7,
     "metadata": {},
     "output_type": "execute_result"
    }
   ],
   "source": [
    "df.output.value_counts()"
   ]
  },
  {
   "cell_type": "code",
   "execution_count": 8,
   "id": "70813272",
   "metadata": {
    "execution": {
     "iopub.execute_input": "2022-11-22T18:27:09.412917Z",
     "iopub.status.busy": "2022-11-22T18:27:09.412234Z",
     "iopub.status.idle": "2022-11-22T18:27:09.426432Z",
     "shell.execute_reply": "2022-11-22T18:27:09.425514Z"
    },
    "papermill": {
     "duration": 0.030834,
     "end_time": "2022-11-22T18:27:09.428900",
     "exception": false,
     "start_time": "2022-11-22T18:27:09.398066",
     "status": "completed"
    },
    "tags": []
   },
   "outputs": [
    {
     "data": {
      "text/html": [
       "<div>\n",
       "<style scoped>\n",
       "    .dataframe tbody tr th:only-of-type {\n",
       "        vertical-align: middle;\n",
       "    }\n",
       "\n",
       "    .dataframe tbody tr th {\n",
       "        vertical-align: top;\n",
       "    }\n",
       "\n",
       "    .dataframe thead th {\n",
       "        text-align: right;\n",
       "    }\n",
       "</style>\n",
       "<table border=\"1\" class=\"dataframe\">\n",
       "  <thead>\n",
       "    <tr style=\"text-align: right;\">\n",
       "      <th></th>\n",
       "      <th>age</th>\n",
       "      <th>sex</th>\n",
       "      <th>cp</th>\n",
       "      <th>trtbps</th>\n",
       "      <th>chol</th>\n",
       "      <th>fbs</th>\n",
       "      <th>restecg</th>\n",
       "      <th>thalachh</th>\n",
       "      <th>exng</th>\n",
       "      <th>oldpeak</th>\n",
       "      <th>slp</th>\n",
       "      <th>caa</th>\n",
       "      <th>thall</th>\n",
       "      <th>output</th>\n",
       "    </tr>\n",
       "  </thead>\n",
       "  <tbody>\n",
       "    <tr>\n",
       "      <th>298</th>\n",
       "      <td>57</td>\n",
       "      <td>0</td>\n",
       "      <td>0</td>\n",
       "      <td>140</td>\n",
       "      <td>241</td>\n",
       "      <td>0</td>\n",
       "      <td>1</td>\n",
       "      <td>123</td>\n",
       "      <td>1</td>\n",
       "      <td>0.2</td>\n",
       "      <td>1</td>\n",
       "      <td>0</td>\n",
       "      <td>3</td>\n",
       "      <td>0</td>\n",
       "    </tr>\n",
       "    <tr>\n",
       "      <th>299</th>\n",
       "      <td>45</td>\n",
       "      <td>1</td>\n",
       "      <td>3</td>\n",
       "      <td>110</td>\n",
       "      <td>264</td>\n",
       "      <td>0</td>\n",
       "      <td>1</td>\n",
       "      <td>132</td>\n",
       "      <td>0</td>\n",
       "      <td>1.2</td>\n",
       "      <td>1</td>\n",
       "      <td>0</td>\n",
       "      <td>3</td>\n",
       "      <td>0</td>\n",
       "    </tr>\n",
       "    <tr>\n",
       "      <th>300</th>\n",
       "      <td>68</td>\n",
       "      <td>1</td>\n",
       "      <td>0</td>\n",
       "      <td>144</td>\n",
       "      <td>193</td>\n",
       "      <td>1</td>\n",
       "      <td>1</td>\n",
       "      <td>141</td>\n",
       "      <td>0</td>\n",
       "      <td>3.4</td>\n",
       "      <td>1</td>\n",
       "      <td>2</td>\n",
       "      <td>3</td>\n",
       "      <td>0</td>\n",
       "    </tr>\n",
       "    <tr>\n",
       "      <th>301</th>\n",
       "      <td>57</td>\n",
       "      <td>1</td>\n",
       "      <td>0</td>\n",
       "      <td>130</td>\n",
       "      <td>131</td>\n",
       "      <td>0</td>\n",
       "      <td>1</td>\n",
       "      <td>115</td>\n",
       "      <td>1</td>\n",
       "      <td>1.2</td>\n",
       "      <td>1</td>\n",
       "      <td>1</td>\n",
       "      <td>3</td>\n",
       "      <td>0</td>\n",
       "    </tr>\n",
       "    <tr>\n",
       "      <th>302</th>\n",
       "      <td>57</td>\n",
       "      <td>0</td>\n",
       "      <td>1</td>\n",
       "      <td>130</td>\n",
       "      <td>236</td>\n",
       "      <td>0</td>\n",
       "      <td>0</td>\n",
       "      <td>174</td>\n",
       "      <td>0</td>\n",
       "      <td>0.0</td>\n",
       "      <td>1</td>\n",
       "      <td>1</td>\n",
       "      <td>2</td>\n",
       "      <td>0</td>\n",
       "    </tr>\n",
       "  </tbody>\n",
       "</table>\n",
       "</div>"
      ],
      "text/plain": [
       "     age  sex  cp  trtbps  chol  fbs  restecg  thalachh  exng  oldpeak  slp  \\\n",
       "298   57    0   0     140   241    0        1       123     1      0.2    1   \n",
       "299   45    1   3     110   264    0        1       132     0      1.2    1   \n",
       "300   68    1   0     144   193    1        1       141     0      3.4    1   \n",
       "301   57    1   0     130   131    0        1       115     1      1.2    1   \n",
       "302   57    0   1     130   236    0        0       174     0      0.0    1   \n",
       "\n",
       "     caa  thall  output  \n",
       "298    0      3       0  \n",
       "299    0      3       0  \n",
       "300    2      3       0  \n",
       "301    1      3       0  \n",
       "302    1      2       0  "
      ]
     },
     "execution_count": 8,
     "metadata": {},
     "output_type": "execute_result"
    }
   ],
   "source": [
    "df.tail()"
   ]
  },
  {
   "cell_type": "code",
   "execution_count": 9,
   "id": "842ffd4c",
   "metadata": {
    "execution": {
     "iopub.execute_input": "2022-11-22T18:27:09.458082Z",
     "iopub.status.busy": "2022-11-22T18:27:09.457640Z",
     "iopub.status.idle": "2022-11-22T18:27:09.471945Z",
     "shell.execute_reply": "2022-11-22T18:27:09.471083Z"
    },
    "papermill": {
     "duration": 0.031838,
     "end_time": "2022-11-22T18:27:09.473994",
     "exception": false,
     "start_time": "2022-11-22T18:27:09.442156",
     "status": "completed"
    },
    "tags": []
   },
   "outputs": [
    {
     "data": {
      "text/html": [
       "<div>\n",
       "<style scoped>\n",
       "    .dataframe tbody tr th:only-of-type {\n",
       "        vertical-align: middle;\n",
       "    }\n",
       "\n",
       "    .dataframe tbody tr th {\n",
       "        vertical-align: top;\n",
       "    }\n",
       "\n",
       "    .dataframe thead th {\n",
       "        text-align: right;\n",
       "    }\n",
       "</style>\n",
       "<table border=\"1\" class=\"dataframe\">\n",
       "  <thead>\n",
       "    <tr style=\"text-align: right;\">\n",
       "      <th></th>\n",
       "      <th>age</th>\n",
       "      <th>sex</th>\n",
       "      <th>cp</th>\n",
       "      <th>trtbps</th>\n",
       "      <th>chol</th>\n",
       "      <th>fbs</th>\n",
       "      <th>restecg</th>\n",
       "      <th>thalachh</th>\n",
       "      <th>exng</th>\n",
       "      <th>oldpeak</th>\n",
       "      <th>slp</th>\n",
       "      <th>caa</th>\n",
       "      <th>thall</th>\n",
       "      <th>output</th>\n",
       "    </tr>\n",
       "  </thead>\n",
       "  <tbody>\n",
       "    <tr>\n",
       "      <th>0</th>\n",
       "      <td>63</td>\n",
       "      <td>1</td>\n",
       "      <td>3</td>\n",
       "      <td>145</td>\n",
       "      <td>233</td>\n",
       "      <td>1</td>\n",
       "      <td>0</td>\n",
       "      <td>150</td>\n",
       "      <td>0</td>\n",
       "      <td>2.3</td>\n",
       "      <td>0</td>\n",
       "      <td>0</td>\n",
       "      <td>1</td>\n",
       "      <td>1</td>\n",
       "    </tr>\n",
       "    <tr>\n",
       "      <th>1</th>\n",
       "      <td>37</td>\n",
       "      <td>1</td>\n",
       "      <td>2</td>\n",
       "      <td>130</td>\n",
       "      <td>250</td>\n",
       "      <td>0</td>\n",
       "      <td>1</td>\n",
       "      <td>187</td>\n",
       "      <td>0</td>\n",
       "      <td>3.5</td>\n",
       "      <td>0</td>\n",
       "      <td>0</td>\n",
       "      <td>2</td>\n",
       "      <td>1</td>\n",
       "    </tr>\n",
       "    <tr>\n",
       "      <th>2</th>\n",
       "      <td>41</td>\n",
       "      <td>0</td>\n",
       "      <td>1</td>\n",
       "      <td>130</td>\n",
       "      <td>204</td>\n",
       "      <td>0</td>\n",
       "      <td>0</td>\n",
       "      <td>172</td>\n",
       "      <td>0</td>\n",
       "      <td>1.4</td>\n",
       "      <td>2</td>\n",
       "      <td>0</td>\n",
       "      <td>2</td>\n",
       "      <td>1</td>\n",
       "    </tr>\n",
       "    <tr>\n",
       "      <th>3</th>\n",
       "      <td>56</td>\n",
       "      <td>1</td>\n",
       "      <td>1</td>\n",
       "      <td>120</td>\n",
       "      <td>236</td>\n",
       "      <td>0</td>\n",
       "      <td>1</td>\n",
       "      <td>178</td>\n",
       "      <td>0</td>\n",
       "      <td>0.8</td>\n",
       "      <td>2</td>\n",
       "      <td>0</td>\n",
       "      <td>2</td>\n",
       "      <td>1</td>\n",
       "    </tr>\n",
       "    <tr>\n",
       "      <th>4</th>\n",
       "      <td>57</td>\n",
       "      <td>0</td>\n",
       "      <td>0</td>\n",
       "      <td>120</td>\n",
       "      <td>354</td>\n",
       "      <td>0</td>\n",
       "      <td>1</td>\n",
       "      <td>163</td>\n",
       "      <td>1</td>\n",
       "      <td>0.6</td>\n",
       "      <td>2</td>\n",
       "      <td>0</td>\n",
       "      <td>2</td>\n",
       "      <td>1</td>\n",
       "    </tr>\n",
       "  </tbody>\n",
       "</table>\n",
       "</div>"
      ],
      "text/plain": [
       "   age  sex  cp  trtbps  chol  fbs  restecg  thalachh  exng  oldpeak  slp  \\\n",
       "0   63    1   3     145   233    1        0       150     0      2.3    0   \n",
       "1   37    1   2     130   250    0        1       187     0      3.5    0   \n",
       "2   41    0   1     130   204    0        0       172     0      1.4    2   \n",
       "3   56    1   1     120   236    0        1       178     0      0.8    2   \n",
       "4   57    0   0     120   354    0        1       163     1      0.6    2   \n",
       "\n",
       "   caa  thall  output  \n",
       "0    0      1       1  \n",
       "1    0      2       1  \n",
       "2    0      2       1  \n",
       "3    0      2       1  \n",
       "4    0      2       1  "
      ]
     },
     "execution_count": 9,
     "metadata": {},
     "output_type": "execute_result"
    }
   ],
   "source": [
    "df.head()"
   ]
  },
  {
   "cell_type": "code",
   "execution_count": 10,
   "id": "7ed53f27",
   "metadata": {
    "execution": {
     "iopub.execute_input": "2022-11-22T18:27:09.502797Z",
     "iopub.status.busy": "2022-11-22T18:27:09.502105Z",
     "iopub.status.idle": "2022-11-22T18:27:09.508045Z",
     "shell.execute_reply": "2022-11-22T18:27:09.507057Z"
    },
    "papermill": {
     "duration": 0.022729,
     "end_time": "2022-11-22T18:27:09.510152",
     "exception": false,
     "start_time": "2022-11-22T18:27:09.487423",
     "status": "completed"
    },
    "tags": []
   },
   "outputs": [
    {
     "data": {
      "text/plain": [
       "(3585, 1)"
      ]
     },
     "execution_count": 10,
     "metadata": {},
     "output_type": "execute_result"
    }
   ],
   "source": [
    "df1.shape"
   ]
  },
  {
   "cell_type": "markdown",
   "id": "627a70cf",
   "metadata": {
    "papermill": {
     "duration": 0.013026,
     "end_time": "2022-11-22T18:27:09.536565",
     "exception": false,
     "start_time": "2022-11-22T18:27:09.523539",
     "status": "completed"
    },
    "tags": []
   },
   "source": [
    "Checking the correlation between the features using mutual information"
   ]
  },
  {
   "cell_type": "markdown",
   "id": "d33f3581",
   "metadata": {
    "papermill": {
     "duration": 0.012839,
     "end_time": "2022-11-22T18:27:09.562859",
     "exception": false,
     "start_time": "2022-11-22T18:27:09.550020",
     "status": "completed"
    },
    "tags": []
   },
   "source": [
    "Output is our target variable"
   ]
  },
  {
   "cell_type": "code",
   "execution_count": 11,
   "id": "ec6c04cc",
   "metadata": {
    "execution": {
     "iopub.execute_input": "2022-11-22T18:27:09.592644Z",
     "iopub.status.busy": "2022-11-22T18:27:09.591983Z",
     "iopub.status.idle": "2022-11-22T18:27:09.601194Z",
     "shell.execute_reply": "2022-11-22T18:27:09.599700Z"
    },
    "papermill": {
     "duration": 0.027328,
     "end_time": "2022-11-22T18:27:09.604054",
     "exception": false,
     "start_time": "2022-11-22T18:27:09.576726",
     "status": "completed"
    },
    "tags": []
   },
   "outputs": [],
   "source": [
    "X= df.drop('output',axis=1)\n",
    "y= df.output"
   ]
  },
  {
   "cell_type": "markdown",
   "id": "da84b244",
   "metadata": {
    "papermill": {
     "duration": 0.013715,
     "end_time": "2022-11-22T18:27:09.631362",
     "exception": false,
     "start_time": "2022-11-22T18:27:09.617647",
     "status": "completed"
    },
    "tags": []
   },
   "source": [
    "# Mutual Information"
   ]
  },
  {
   "cell_type": "code",
   "execution_count": 12,
   "id": "492cd521",
   "metadata": {
    "execution": {
     "iopub.execute_input": "2022-11-22T18:27:09.660464Z",
     "iopub.status.busy": "2022-11-22T18:27:09.660020Z",
     "iopub.status.idle": "2022-11-22T18:27:10.924671Z",
     "shell.execute_reply": "2022-11-22T18:27:10.923425Z"
    },
    "papermill": {
     "duration": 1.282352,
     "end_time": "2022-11-22T18:27:10.927435",
     "exception": false,
     "start_time": "2022-11-22T18:27:09.645083",
     "status": "completed"
    },
    "tags": []
   },
   "outputs": [
    {
     "data": {
      "text/plain": [
       "exng        0.171299\n",
       "thall       0.157050\n",
       "cp          0.147017\n",
       "caa         0.131002\n",
       "thalachh    0.100778\n",
       "chol        0.073801\n",
       "oldpeak     0.070888\n",
       "slp         0.046030\n",
       "sex         0.043967\n",
       "trtbps      0.017286\n",
       "restecg     0.008926\n",
       "age         0.006276\n",
       "fbs         0.000000\n",
       "Name: MI Scores, dtype: float64"
      ]
     },
     "execution_count": 12,
     "metadata": {},
     "output_type": "execute_result"
    }
   ],
   "source": [
    "#using mutual_info_classif for classification problem MI\n",
    "from sklearn.feature_selection import mutual_info_classif\n",
    "\n",
    "mi_scores = mutual_info_classif(X, y)\n",
    "mi_scores = pd.Series(mi_scores, name=\"MI Scores\", index=X.columns)\n",
    "mi_scores = mi_scores.sort_values(ascending=False)\n",
    "\n",
    "mi_scores # show a few features with their MI scores"
   ]
  },
  {
   "cell_type": "markdown",
   "id": "a653be22",
   "metadata": {
    "papermill": {
     "duration": 0.013248,
     "end_time": "2022-11-22T18:27:10.955766",
     "exception": false,
     "start_time": "2022-11-22T18:27:10.942518",
     "status": "completed"
    },
    "tags": []
   },
   "source": [
    "cp, thall, exng, slp and caa are the top 5 features which are dependant with output feature.\n",
    "\n",
    "Age, trtbps and restecg does not have any dependancy.\n",
    "\n",
    "We'll train and test with top 6 features and test the accuracy and then with all the features and test the accuracy and auc score"
   ]
  },
  {
   "cell_type": "markdown",
   "id": "117ca518",
   "metadata": {
    "papermill": {
     "duration": 0.013383,
     "end_time": "2022-11-22T18:27:10.982473",
     "exception": false,
     "start_time": "2022-11-22T18:27:10.969090",
     "status": "completed"
    },
    "tags": []
   },
   "source": [
    "# Test train split"
   ]
  },
  {
   "cell_type": "code",
   "execution_count": 13,
   "id": "115a2687",
   "metadata": {
    "execution": {
     "iopub.execute_input": "2022-11-22T18:27:11.012269Z",
     "iopub.status.busy": "2022-11-22T18:27:11.011847Z",
     "iopub.status.idle": "2022-11-22T18:27:11.018322Z",
     "shell.execute_reply": "2022-11-22T18:27:11.016940Z"
    },
    "papermill": {
     "duration": 0.023681,
     "end_time": "2022-11-22T18:27:11.020590",
     "exception": false,
     "start_time": "2022-11-22T18:27:10.996909",
     "status": "completed"
    },
    "tags": []
   },
   "outputs": [],
   "source": [
    "from sklearn.model_selection import train_test_split\n",
    "\n",
    "# dataset split\n",
    "# creating a function for dataset split\n",
    "def dataset(X,y):\n",
    "    train_full_X, val_X, train_full_y, val_y = train_test_split(X, y,test_size=0.2,random_state = 0)\n",
    "\n",
    "# Use the same function above for the validation set\n",
    "    train_X, test_X, train_y, test_y = train_test_split(train_full_X, train_full_y, test_size=0.25,random_state = 0)\n",
    "    return (train_X, val_X, train_y, val_y)"
   ]
  },
  {
   "cell_type": "markdown",
   "id": "1a76ad50",
   "metadata": {
    "papermill": {
     "duration": 0.013223,
     "end_time": "2022-11-22T18:27:11.047190",
     "exception": false,
     "start_time": "2022-11-22T18:27:11.033967",
     "status": "completed"
    },
    "tags": []
   },
   "source": [
    "# Minmax scaling "
   ]
  },
  {
   "cell_type": "code",
   "execution_count": 14,
   "id": "a984134c",
   "metadata": {
    "execution": {
     "iopub.execute_input": "2022-11-22T18:27:11.075301Z",
     "iopub.status.busy": "2022-11-22T18:27:11.074931Z",
     "iopub.status.idle": "2022-11-22T18:27:11.080607Z",
     "shell.execute_reply": "2022-11-22T18:27:11.079269Z"
    },
    "papermill": {
     "duration": 0.022547,
     "end_time": "2022-11-22T18:27:11.082942",
     "exception": false,
     "start_time": "2022-11-22T18:27:11.060395",
     "status": "completed"
    },
    "tags": []
   },
   "outputs": [],
   "source": [
    "from sklearn.preprocessing import MinMaxScaler\n",
    "\n",
    "def scale(X):\n",
    "    scaler = MinMaxScaler()\n",
    "    scaler.fit(X)\n",
    "    return X"
   ]
  },
  {
   "cell_type": "markdown",
   "id": "f56fbf33",
   "metadata": {
    "papermill": {
     "duration": 0.013007,
     "end_time": "2022-11-22T18:27:11.109400",
     "exception": false,
     "start_time": "2022-11-22T18:27:11.096393",
     "status": "completed"
    },
    "tags": []
   },
   "source": [
    "Lets start with **decision tree**\n",
    "\n",
    "# Decison Tree\n",
    "\n",
    "1. With top 7 features"
   ]
  },
  {
   "cell_type": "code",
   "execution_count": 15,
   "id": "aa0ee594",
   "metadata": {
    "execution": {
     "iopub.execute_input": "2022-11-22T18:27:11.137853Z",
     "iopub.status.busy": "2022-11-22T18:27:11.137173Z",
     "iopub.status.idle": "2022-11-22T18:27:11.182551Z",
     "shell.execute_reply": "2022-11-22T18:27:11.180754Z"
    },
    "papermill": {
     "duration": 0.062558,
     "end_time": "2022-11-22T18:27:11.185173",
     "exception": false,
     "start_time": "2022-11-22T18:27:11.122615",
     "status": "completed"
    },
    "tags": []
   },
   "outputs": [
    {
     "name": "stdout",
     "output_type": "stream",
     "text": [
      "ACCURACY:  70.49180327868852\n",
      "AUC score:  0.7009803921568628\n"
     ]
    }
   ],
   "source": [
    "from sklearn.tree import DecisionTreeClassifier\n",
    "from sklearn.metrics import roc_auc_score\n",
    "from sklearn.metrics import accuracy_score\n",
    "\n",
    "#assigning the features under a list\n",
    "\n",
    "features=['thall','caa','cp','oldpeak','exng','chol','thalachh']\n",
    "X= df[features]\n",
    "y= df.output\n",
    "\n",
    "X= scale(X)\n",
    "X_train,X_val,y_train,y_val= dataset(X,y)\n",
    "\n",
    "tree_model= DecisionTreeClassifier(random_state=1)\n",
    "tree_model.fit(X_train, y_train)\n",
    "preds= tree_model.predict(X_val)\n",
    "\n",
    "print('ACCURACY: ',accuracy_score(y_val,preds)*100)\n",
    "print('AUC score: ',roc_auc_score(y_val,preds))\n"
   ]
  },
  {
   "cell_type": "markdown",
   "id": "2c89a971",
   "metadata": {
    "papermill": {
     "duration": 0.013987,
     "end_time": "2022-11-22T18:27:11.213332",
     "exception": false,
     "start_time": "2022-11-22T18:27:11.199345",
     "status": "completed"
    },
    "tags": []
   },
   "source": [
    "2. Let's try with all features"
   ]
  },
  {
   "cell_type": "code",
   "execution_count": 16,
   "id": "428a06eb",
   "metadata": {
    "execution": {
     "iopub.execute_input": "2022-11-22T18:27:11.243230Z",
     "iopub.status.busy": "2022-11-22T18:27:11.242733Z",
     "iopub.status.idle": "2022-11-22T18:27:11.264723Z",
     "shell.execute_reply": "2022-11-22T18:27:11.262704Z"
    },
    "papermill": {
     "duration": 0.041631,
     "end_time": "2022-11-22T18:27:11.269035",
     "exception": false,
     "start_time": "2022-11-22T18:27:11.227404",
     "status": "completed"
    },
    "tags": []
   },
   "outputs": [
    {
     "name": "stdout",
     "output_type": "stream",
     "text": [
      "ACCURACY:  77.04918032786885\n",
      "AUC score:  0.767429193899782\n"
     ]
    }
   ],
   "source": [
    "X= df.drop('output',axis=1)\n",
    "y= df.output\n",
    "\n",
    "X= scale(X)\n",
    "X_train,X_val,y_train,y_val= dataset(X,y)\n",
    "\n",
    "tree_model= DecisionTreeClassifier(random_state=1)\n",
    "tree_model.fit(X_train, y_train)\n",
    "preds= tree_model.predict(X_val)\n",
    "\n",
    "print('ACCURACY: ',accuracy_score(y_val,preds)*100)\n",
    "print('AUC score: ',roc_auc_score(y_val,preds))"
   ]
  },
  {
   "cell_type": "markdown",
   "id": "c0340b43",
   "metadata": {
    "papermill": {
     "duration": 0.013211,
     "end_time": "2022-11-22T18:27:11.296291",
     "exception": false,
     "start_time": "2022-11-22T18:27:11.283080",
     "status": "completed"
    },
    "tags": []
   },
   "source": [
    "The accuracy and AUC has improved when we train with all the features in decision tree model. \n",
    "\n",
    "Next we'll make use of the parameters in decision tree model\n",
    "\n",
    "3. Decision tree with parameter tuning with all features included"
   ]
  },
  {
   "cell_type": "code",
   "execution_count": 17,
   "id": "fd0142d0",
   "metadata": {
    "execution": {
     "iopub.execute_input": "2022-11-22T18:27:11.325737Z",
     "iopub.status.busy": "2022-11-22T18:27:11.325343Z",
     "iopub.status.idle": "2022-11-22T18:27:11.705650Z",
     "shell.execute_reply": "2022-11-22T18:27:11.704604Z"
    },
    "papermill": {
     "duration": 0.398011,
     "end_time": "2022-11-22T18:27:11.708517",
     "exception": false,
     "start_time": "2022-11-22T18:27:11.310506",
     "status": "completed"
    },
    "tags": []
   },
   "outputs": [],
   "source": [
    "X= df.drop('output',axis=1)\n",
    "y= df.output\n",
    "\n",
    "depth = [1, 2, 3, 4, 5, 6, 10, 15, 20, None]\n",
    "leaf=[1, 5, 10, 15, 20, 500, 100, 200]\n",
    "scores=[]\n",
    "for d in depth:\n",
    "      for l in leaf:\n",
    "        dmodel = DecisionTreeClassifier(random_state=0,max_depth=d,min_samples_leaf=l)\n",
    "        dmodel.fit(X_train, y_train)\n",
    "\n",
    "        pred1 = dmodel.predict(X_val)\n",
    "        acc= accuracy_score(y_val,pred1)*100\n",
    "        auc = roc_auc_score(y_val,pred1)\n",
    "        #print('%4s %s -> auc %.3f accuracy  %.2f' % (d, l, auc, acc))\n",
    "\n",
    "        scores.append((d,l,auc))"
   ]
  },
  {
   "cell_type": "code",
   "execution_count": 18,
   "id": "4a4fba81",
   "metadata": {
    "execution": {
     "iopub.execute_input": "2022-11-22T18:27:11.738440Z",
     "iopub.status.busy": "2022-11-22T18:27:11.738034Z",
     "iopub.status.idle": "2022-11-22T18:27:11.781462Z",
     "shell.execute_reply": "2022-11-22T18:27:11.780250Z"
    },
    "papermill": {
     "duration": 0.061361,
     "end_time": "2022-11-22T18:27:11.784037",
     "exception": false,
     "start_time": "2022-11-22T18:27:11.722676",
     "status": "completed"
    },
    "tags": []
   },
   "outputs": [
    {
     "data": {
      "text/html": [
       "<div>\n",
       "<style scoped>\n",
       "    .dataframe tbody tr th:only-of-type {\n",
       "        vertical-align: middle;\n",
       "    }\n",
       "\n",
       "    .dataframe tbody tr th {\n",
       "        vertical-align: top;\n",
       "    }\n",
       "\n",
       "    .dataframe thead tr th {\n",
       "        text-align: left;\n",
       "    }\n",
       "\n",
       "    .dataframe thead tr:last-of-type th {\n",
       "        text-align: right;\n",
       "    }\n",
       "</style>\n",
       "<table border=\"1\" class=\"dataframe\">\n",
       "  <thead>\n",
       "    <tr>\n",
       "      <th></th>\n",
       "      <th colspan=\"10\" halign=\"left\">auc</th>\n",
       "    </tr>\n",
       "    <tr>\n",
       "      <th>max_depth</th>\n",
       "      <th>NaN</th>\n",
       "      <th>1.0</th>\n",
       "      <th>2.0</th>\n",
       "      <th>3.0</th>\n",
       "      <th>4.0</th>\n",
       "      <th>5.0</th>\n",
       "      <th>6.0</th>\n",
       "      <th>10.0</th>\n",
       "      <th>15.0</th>\n",
       "      <th>20.0</th>\n",
       "    </tr>\n",
       "    <tr>\n",
       "      <th>min_samples_leaf</th>\n",
       "      <th></th>\n",
       "      <th></th>\n",
       "      <th></th>\n",
       "      <th></th>\n",
       "      <th></th>\n",
       "      <th></th>\n",
       "      <th></th>\n",
       "      <th></th>\n",
       "      <th></th>\n",
       "      <th></th>\n",
       "    </tr>\n",
       "  </thead>\n",
       "  <tbody>\n",
       "    <tr>\n",
       "      <th>1</th>\n",
       "      <td>0.749</td>\n",
       "      <td>0.686</td>\n",
       "      <td>0.756</td>\n",
       "      <td>0.738</td>\n",
       "      <td>0.778</td>\n",
       "      <td>0.749</td>\n",
       "      <td>0.727</td>\n",
       "      <td>0.749</td>\n",
       "      <td>0.749</td>\n",
       "      <td>0.749</td>\n",
       "    </tr>\n",
       "    <tr>\n",
       "      <th>5</th>\n",
       "      <td>0.808</td>\n",
       "      <td>0.686</td>\n",
       "      <td>0.756</td>\n",
       "      <td>0.738</td>\n",
       "      <td>0.808</td>\n",
       "      <td>0.808</td>\n",
       "      <td>0.808</td>\n",
       "      <td>0.808</td>\n",
       "      <td>0.808</td>\n",
       "      <td>0.808</td>\n",
       "    </tr>\n",
       "    <tr>\n",
       "      <th>10</th>\n",
       "      <td>0.738</td>\n",
       "      <td>0.686</td>\n",
       "      <td>0.756</td>\n",
       "      <td>0.738</td>\n",
       "      <td>0.738</td>\n",
       "      <td>0.738</td>\n",
       "      <td>0.738</td>\n",
       "      <td>0.738</td>\n",
       "      <td>0.738</td>\n",
       "      <td>0.738</td>\n",
       "    </tr>\n",
       "    <tr>\n",
       "      <th>15</th>\n",
       "      <td>0.756</td>\n",
       "      <td>0.686</td>\n",
       "      <td>0.756</td>\n",
       "      <td>0.756</td>\n",
       "      <td>0.756</td>\n",
       "      <td>0.756</td>\n",
       "      <td>0.756</td>\n",
       "      <td>0.756</td>\n",
       "      <td>0.756</td>\n",
       "      <td>0.756</td>\n",
       "    </tr>\n",
       "    <tr>\n",
       "      <th>20</th>\n",
       "      <td>0.756</td>\n",
       "      <td>0.686</td>\n",
       "      <td>0.756</td>\n",
       "      <td>0.756</td>\n",
       "      <td>0.756</td>\n",
       "      <td>0.756</td>\n",
       "      <td>0.756</td>\n",
       "      <td>0.756</td>\n",
       "      <td>0.756</td>\n",
       "      <td>0.756</td>\n",
       "    </tr>\n",
       "    <tr>\n",
       "      <th>100</th>\n",
       "      <td>0.500</td>\n",
       "      <td>0.500</td>\n",
       "      <td>0.500</td>\n",
       "      <td>0.500</td>\n",
       "      <td>0.500</td>\n",
       "      <td>0.500</td>\n",
       "      <td>0.500</td>\n",
       "      <td>0.500</td>\n",
       "      <td>0.500</td>\n",
       "      <td>0.500</td>\n",
       "    </tr>\n",
       "    <tr>\n",
       "      <th>200</th>\n",
       "      <td>0.500</td>\n",
       "      <td>0.500</td>\n",
       "      <td>0.500</td>\n",
       "      <td>0.500</td>\n",
       "      <td>0.500</td>\n",
       "      <td>0.500</td>\n",
       "      <td>0.500</td>\n",
       "      <td>0.500</td>\n",
       "      <td>0.500</td>\n",
       "      <td>0.500</td>\n",
       "    </tr>\n",
       "    <tr>\n",
       "      <th>500</th>\n",
       "      <td>0.500</td>\n",
       "      <td>0.500</td>\n",
       "      <td>0.500</td>\n",
       "      <td>0.500</td>\n",
       "      <td>0.500</td>\n",
       "      <td>0.500</td>\n",
       "      <td>0.500</td>\n",
       "      <td>0.500</td>\n",
       "      <td>0.500</td>\n",
       "      <td>0.500</td>\n",
       "    </tr>\n",
       "  </tbody>\n",
       "</table>\n",
       "</div>"
      ],
      "text/plain": [
       "                    auc                                                   \\\n",
       "max_depth           NaN   1.0    2.0    3.0    4.0    5.0    6.0    10.0   \n",
       "min_samples_leaf                                                           \n",
       "1                 0.749  0.686  0.756  0.738  0.778  0.749  0.727  0.749   \n",
       "5                 0.808  0.686  0.756  0.738  0.808  0.808  0.808  0.808   \n",
       "10                0.738  0.686  0.756  0.738  0.738  0.738  0.738  0.738   \n",
       "15                0.756  0.686  0.756  0.756  0.756  0.756  0.756  0.756   \n",
       "20                0.756  0.686  0.756  0.756  0.756  0.756  0.756  0.756   \n",
       "100               0.500  0.500  0.500  0.500  0.500  0.500  0.500  0.500   \n",
       "200               0.500  0.500  0.500  0.500  0.500  0.500  0.500  0.500   \n",
       "500               0.500  0.500  0.500  0.500  0.500  0.500  0.500  0.500   \n",
       "\n",
       "                                \n",
       "max_depth          15.0   20.0  \n",
       "min_samples_leaf                \n",
       "1                 0.749  0.749  \n",
       "5                 0.808  0.808  \n",
       "10                0.738  0.738  \n",
       "15                0.756  0.756  \n",
       "20                0.756  0.756  \n",
       "100               0.500  0.500  \n",
       "200               0.500  0.500  \n",
       "500               0.500  0.500  "
      ]
     },
     "execution_count": 18,
     "metadata": {},
     "output_type": "execute_result"
    }
   ],
   "source": [
    "columns = ['max_depth', 'min_samples_leaf', 'auc']\n",
    "df_scores = pd.DataFrame(scores, columns=columns)\n",
    "\n",
    "pivot2 = df_scores.pivot(index='min_samples_leaf', columns=['max_depth'], values=['auc'])\n",
    "pivot2.round(3)"
   ]
  },
  {
   "cell_type": "code",
   "execution_count": 19,
   "id": "52ed1811",
   "metadata": {
    "execution": {
     "iopub.execute_input": "2022-11-22T18:27:11.814404Z",
     "iopub.status.busy": "2022-11-22T18:27:11.814008Z",
     "iopub.status.idle": "2022-11-22T18:27:12.715106Z",
     "shell.execute_reply": "2022-11-22T18:27:12.713789Z"
    },
    "papermill": {
     "duration": 0.919355,
     "end_time": "2022-11-22T18:27:12.718144",
     "exception": false,
     "start_time": "2022-11-22T18:27:11.798789",
     "status": "completed"
    },
    "tags": []
   },
   "outputs": [
    {
     "data": {
      "text/plain": [
       "<AxesSubplot:xlabel='None-max_depth', ylabel='min_samples_leaf'>"
      ]
     },
     "execution_count": 19,
     "metadata": {},
     "output_type": "execute_result"
    },
    {
     "data": {
      "image/png": "[encoded data removed]",
      "text/plain": [
       "<Figure size 432x288 with 2 Axes>"
      ]
     },
     "metadata": {
      "needs_background": "light"
     },
     "output_type": "display_data"
    }
   ],
   "source": [
    "import seaborn as sns\n",
    "sns.heatmap(pivot2, annot=True, fmt=\".3f\")"
   ]
  },
  {
   "cell_type": "markdown",
   "id": "98ab951c",
   "metadata": {
    "papermill": {
     "duration": 0.014639,
     "end_time": "2022-11-22T18:27:12.747913",
     "exception": false,
     "start_time": "2022-11-22T18:27:12.733274",
     "status": "completed"
    },
    "tags": []
   },
   "source": [
    "We are getting high auc score when min_samples_leaf=5 and max_depth to be between 4-20 since we have same auc score\n",
    "Finalizing parameters\n"
   ]
  },
  {
   "cell_type": "code",
   "execution_count": 20,
   "id": "e1b9ed8e",
   "metadata": {
    "execution": {
     "iopub.execute_input": "2022-11-22T18:27:12.779168Z",
     "iopub.status.busy": "2022-11-22T18:27:12.777964Z",
     "iopub.status.idle": "2022-11-22T18:27:12.797292Z",
     "shell.execute_reply": "2022-11-22T18:27:12.795832Z"
    },
    "papermill": {
     "duration": 0.037565,
     "end_time": "2022-11-22T18:27:12.799777",
     "exception": false,
     "start_time": "2022-11-22T18:27:12.762212",
     "status": "completed"
    },
    "tags": []
   },
   "outputs": [
    {
     "name": "stdout",
     "output_type": "stream",
     "text": [
      "ACCURACY:  80.32786885245902\n",
      "AUC score:  0.8082788671023965\n"
     ]
    }
   ],
   "source": [
    "#finalized decision tree model\n",
    "X= df.drop('output',axis=1)\n",
    "y= df.output\n",
    "\n",
    "X= scale(X)\n",
    "X_train,X_val,y_train,y_val= dataset(X,y)\n",
    "\n",
    "tree_model= DecisionTreeClassifier(random_state=1,max_depth=5,min_samples_leaf=5)\n",
    "tree_model.fit(X_train, y_train)\n",
    "preds= tree_model.predict(X_val)\n",
    "\n",
    "print('ACCURACY: ',accuracy_score(y_val,preds)*100)\n",
    "print('AUC score: ',roc_auc_score(y_val,preds))"
   ]
  },
  {
   "cell_type": "markdown",
   "id": "8df9c15f",
   "metadata": {
    "papermill": {
     "duration": 0.014265,
     "end_time": "2022-11-22T18:27:12.828630",
     "exception": false,
     "start_time": "2022-11-22T18:27:12.814365",
     "status": "completed"
    },
    "tags": []
   },
   "source": [
    "With parameter tuning, results are getting worse, so we'll go with default one"
   ]
  },
  {
   "cell_type": "markdown",
   "id": "cbaf956d",
   "metadata": {
    "papermill": {
     "duration": 0.01413,
     "end_time": "2022-11-22T18:27:12.857179",
     "exception": false,
     "start_time": "2022-11-22T18:27:12.843049",
     "status": "completed"
    },
    "tags": []
   },
   "source": [
    "# Random forest\n",
    "\n",
    "4. **Random forest** classifier with top 7 features"
   ]
  },
  {
   "cell_type": "code",
   "execution_count": 21,
   "id": "5760a60d",
   "metadata": {
    "execution": {
     "iopub.execute_input": "2022-11-22T18:27:12.888754Z",
     "iopub.status.busy": "2022-11-22T18:27:12.887669Z",
     "iopub.status.idle": "2022-11-22T18:27:13.114806Z",
     "shell.execute_reply": "2022-11-22T18:27:13.113260Z"
    },
    "papermill": {
     "duration": 0.246271,
     "end_time": "2022-11-22T18:27:13.118018",
     "exception": false,
     "start_time": "2022-11-22T18:27:12.871747",
     "status": "completed"
    },
    "tags": []
   },
   "outputs": [
    {
     "name": "stdout",
     "output_type": "stream",
     "text": [
      "ACCURACY:  85.24590163934425\n",
      "AUC score:  0.8523965141612201\n"
     ]
    }
   ],
   "source": [
    "from sklearn.ensemble import RandomForestClassifier\n",
    "\n",
    "X= df[features]\n",
    "y= df.output\n",
    "\n",
    "X= scale(X)\n",
    "X_train,X_val,y_train,y_val= dataset(X,y)\n",
    "\n",
    "forest_model= RandomForestClassifier(random_state=1)\n",
    "forest_model.fit(X_train, y_train)\n",
    "preds= forest_model.predict(X_val)\n",
    "\n",
    "print('ACCURACY: ',accuracy_score(y_val,preds)*100)\n",
    "print('AUC score: ',roc_auc_score(y_val,preds))"
   ]
  },
  {
   "cell_type": "markdown",
   "id": "54c7dd45",
   "metadata": {
    "papermill": {
     "duration": 0.01503,
     "end_time": "2022-11-22T18:27:13.148838",
     "exception": false,
     "start_time": "2022-11-22T18:27:13.133808",
     "status": "completed"
    },
    "tags": []
   },
   "source": [
    "5. **Random forest** with all features"
   ]
  },
  {
   "cell_type": "code",
   "execution_count": 22,
   "id": "41bc425e",
   "metadata": {
    "execution": {
     "iopub.execute_input": "2022-11-22T18:27:13.181312Z",
     "iopub.status.busy": "2022-11-22T18:27:13.180915Z",
     "iopub.status.idle": "2022-11-22T18:27:13.360570Z",
     "shell.execute_reply": "2022-11-22T18:27:13.359266Z"
    },
    "papermill": {
     "duration": 0.198813,
     "end_time": "2022-11-22T18:27:13.363237",
     "exception": false,
     "start_time": "2022-11-22T18:27:13.164424",
     "status": "completed"
    },
    "tags": []
   },
   "outputs": [
    {
     "name": "stdout",
     "output_type": "stream",
     "text": [
      "ACCURACY:  83.60655737704919\n",
      "AUC score:  0.8376906318082789\n"
     ]
    }
   ],
   "source": [
    "X= df.drop('output',axis=1)\n",
    "y= df.output\n",
    "\n",
    "X= scale(X)\n",
    "X_train,X_val,y_train,y_val= dataset(X,y)\n",
    "\n",
    "forest_model= RandomForestClassifier(random_state=1)\n",
    "forest_model.fit(X_train, y_train)\n",
    "preds= forest_model.predict(X_val)\n",
    "\n",
    "print('ACCURACY: ',accuracy_score(y_val,preds)*100)\n",
    "print('AUC score: ',roc_auc_score(y_val,preds))"
   ]
  },
  {
   "cell_type": "markdown",
   "id": "ff014da4",
   "metadata": {
    "papermill": {
     "duration": 0.014405,
     "end_time": "2022-11-22T18:27:13.392697",
     "exception": false,
     "start_time": "2022-11-22T18:27:13.378292",
     "status": "completed"
    },
    "tags": []
   },
   "source": [
    "In Random forest, model trained with top 7 features gives higher accuracy and auc score\n",
    "\n",
    "6. Random forest with parameter tuning with top 7 features included "
   ]
  },
  {
   "cell_type": "code",
   "execution_count": 23,
   "id": "f9262e51",
   "metadata": {
    "execution": {
     "iopub.execute_input": "2022-11-22T18:27:13.424340Z",
     "iopub.status.busy": "2022-11-22T18:27:13.423587Z",
     "iopub.status.idle": "2022-11-22T18:27:26.916963Z",
     "shell.execute_reply": "2022-11-22T18:27:26.915380Z"
    },
    "papermill": {
     "duration": 13.512528,
     "end_time": "2022-11-22T18:27:26.919932",
     "exception": false,
     "start_time": "2022-11-22T18:27:13.407404",
     "status": "completed"
    },
    "tags": []
   },
   "outputs": [],
   "source": [
    "X= df[features]\n",
    "y= df.output\n",
    "\n",
    "X= scale(X)\n",
    "X_train,X_val,y_train,y_val= dataset(X,y)\n",
    "\n",
    "#determing depth\n",
    "depth=[5,10,15,20]\n",
    "score=[]\n",
    "score1=[]\n",
    "for d in depth:\n",
    "       for n in range(10,201,10):\n",
    "\n",
    "\n",
    "        rmodel = RandomForestClassifier(n_estimators=n,random_state=1,max_depth=d)\n",
    "        rmodel.fit(X_train, y_train)\n",
    "\n",
    "        pred = rmodel.predict(X_val)\n",
    "        acc= accuracy_score(y_val,pred)*100\n",
    "        auc = roc_auc_score(y_val,pred)\n",
    "\n",
    "        #print('%4s %s  %.2f %.3f'%(n,d,acc,auc))\n",
    "        score.append((d,n,auc))\n",
    "        \n",
    "#creating dataframe\n",
    "columns = ['max_depth', 'n_estimators', 'auc']\n",
    "df_scores = pd.DataFrame(score, columns=columns)\n",
    "        "
   ]
  },
  {
   "cell_type": "code",
   "execution_count": 24,
   "id": "fd9a4334",
   "metadata": {
    "execution": {
     "iopub.execute_input": "2022-11-22T18:27:26.951658Z",
     "iopub.status.busy": "2022-11-22T18:27:26.951262Z",
     "iopub.status.idle": "2022-11-22T18:27:27.210478Z",
     "shell.execute_reply": "2022-11-22T18:27:27.209178Z"
    },
    "papermill": {
     "duration": 0.280158,
     "end_time": "2022-11-22T18:27:27.215058",
     "exception": false,
     "start_time": "2022-11-22T18:27:26.934900",
     "status": "completed"
    },
    "tags": []
   },
   "outputs": [
    {
     "data": {
      "text/plain": [
       "<matplotlib.legend.Legend at 0x7f931daa41d0>"
      ]
     },
     "execution_count": 24,
     "metadata": {},
     "output_type": "execute_result"
    },
    {
     "data": {
      "image/png": "[encoded data removed]",
      "text/plain": [
       "<Figure size 432x288 with 1 Axes>"
      ]
     },
     "metadata": {
      "needs_background": "light"
     },
     "output_type": "display_data"
    }
   ],
   "source": [
    "import matplotlib.pyplot as plt\n",
    "for d in depth:\n",
    "    subset = df_scores[df_scores.max_depth == d]\n",
    "    \n",
    "    plt.plot(subset.n_estimators, subset.auc,label='max_depth=%d' % d)\n",
    "\n",
    "plt.legend()"
   ]
  },
  {
   "cell_type": "markdown",
   "id": "c5f201fe",
   "metadata": {
    "papermill": {
     "duration": 0.015125,
     "end_time": "2022-11-22T18:27:27.246598",
     "exception": false,
     "start_time": "2022-11-22T18:27:27.231473",
     "status": "completed"
    },
    "tags": []
   },
   "source": [
    "choosing max depth= 20 and we get highest auc score with that depth"
   ]
  },
  {
   "cell_type": "code",
   "execution_count": 25,
   "id": "41ae480c",
   "metadata": {
    "execution": {
     "iopub.execute_input": "2022-11-22T18:27:27.280024Z",
     "iopub.status.busy": "2022-11-22T18:27:27.278783Z",
     "iopub.status.idle": "2022-11-22T18:27:46.682113Z",
     "shell.execute_reply": "2022-11-22T18:27:46.680831Z"
    },
    "papermill": {
     "duration": 19.4231,
     "end_time": "2022-11-22T18:27:46.685015",
     "exception": false,
     "start_time": "2022-11-22T18:27:27.261915",
     "status": "completed"
    },
    "tags": []
   },
   "outputs": [],
   "source": [
    "depth= 20\n",
    "#getting samples\n",
    "score1=[]\n",
    "\n",
    "samples=[1,5,10,25,30,50]\n",
    "for s in samples:\n",
    "       for n in range(10,201,10):\n",
    "\n",
    "\n",
    "        rmodel = RandomForestClassifier(n_estimators=n,random_state=1,max_depth=depth,min_samples_leaf=s)\n",
    "        rmodel.fit(X_train, y_train)\n",
    "\n",
    "        pred = rmodel.predict(X_val)\n",
    "        acc= accuracy_score(y_val,pred)*100\n",
    "        auc = roc_auc_score(y_val,pred)\n",
    "\n",
    "        #print('%4s %s  %.2f %.3f'%(n,d,acc,auc))\n",
    "        #score.append((d,n,acc))\n",
    "        score1.append((s,n,auc))\n",
    "        \n",
    "        \n",
    "columns = ['min_samples_leaf', 'n_estimators', 'auc']\n",
    "df_scores = pd.DataFrame(score1, columns=columns)"
   ]
  },
  {
   "cell_type": "code",
   "execution_count": 26,
   "id": "c414522c",
   "metadata": {
    "execution": {
     "iopub.execute_input": "2022-11-22T18:27:46.718073Z",
     "iopub.status.busy": "2022-11-22T18:27:46.717672Z",
     "iopub.status.idle": "2022-11-22T18:27:46.978193Z",
     "shell.execute_reply": "2022-11-22T18:27:46.976948Z"
    },
    "papermill": {
     "duration": 0.279637,
     "end_time": "2022-11-22T18:27:46.980693",
     "exception": false,
     "start_time": "2022-11-22T18:27:46.701056",
     "status": "completed"
    },
    "tags": []
   },
   "outputs": [
    {
     "data": {
      "text/plain": [
       "<matplotlib.legend.Legend at 0x7f931da24450>"
      ]
     },
     "execution_count": 26,
     "metadata": {},
     "output_type": "execute_result"
    },
    {
     "data": {
      "image/png": "[encoded data removed]",
      "text/plain": [
       "<Figure size 432x288 with 1 Axes>"
      ]
     },
     "metadata": {
      "needs_background": "light"
     },
     "output_type": "display_data"
    }
   ],
   "source": [
    "for s in samples:\n",
    "    subset = df_scores[df_scores.min_samples_leaf == s]\n",
    "    \n",
    "    plt.plot(subset.n_estimators, subset.auc,\n",
    "             label='min_samples_leaf=%d' % s)\n",
    "\n",
    "plt.legend()"
   ]
  },
  {
   "cell_type": "markdown",
   "id": "eb205801",
   "metadata": {
    "papermill": {
     "duration": 0.016046,
     "end_time": "2022-11-22T18:27:47.013434",
     "exception": false,
     "start_time": "2022-11-22T18:27:46.997388",
     "status": "completed"
    },
    "tags": []
   },
   "source": [
    "We are reaching maximum auc score when min_samples_leaf=1, with estimators between 25-40"
   ]
  },
  {
   "cell_type": "code",
   "execution_count": 27,
   "id": "acd25986",
   "metadata": {
    "execution": {
     "iopub.execute_input": "2022-11-22T18:27:47.047504Z",
     "iopub.status.busy": "2022-11-22T18:27:47.047093Z",
     "iopub.status.idle": "2022-11-22T18:27:47.113353Z",
     "shell.execute_reply": "2022-11-22T18:27:47.112291Z"
    },
    "papermill": {
     "duration": 0.086333,
     "end_time": "2022-11-22T18:27:47.115775",
     "exception": false,
     "start_time": "2022-11-22T18:27:47.029442",
     "status": "completed"
    },
    "tags": []
   },
   "outputs": [
    {
     "name": "stdout",
     "output_type": "stream",
     "text": [
      "ACCURACY:  86.88524590163934\n",
      "AUC score:  0.8709150326797386\n"
     ]
    }
   ],
   "source": [
    "## finalized paramter values \n",
    "\n",
    "X= df[features]\n",
    "y= df.output\n",
    "\n",
    "X= scale(X)\n",
    "X_train,X_val,y_train,y_val= dataset(X,y)\n",
    "\n",
    "forest_model= RandomForestClassifier(n_estimators=27,random_state=11,max_depth=20,min_samples_leaf=1)\n",
    "forest_model.fit(X_train, y_train)\n",
    "preds= forest_model.predict(X_val)\n",
    "\n",
    "print('ACCURACY: ',accuracy_score(y_val,preds)*100)\n",
    "print('AUC score: ',roc_auc_score(y_val,preds))"
   ]
  },
  {
   "cell_type": "markdown",
   "id": "6a905244",
   "metadata": {
    "papermill": {
     "duration": 0.015543,
     "end_time": "2022-11-22T18:27:47.147255",
     "exception": false,
     "start_time": "2022-11-22T18:27:47.131712",
     "status": "completed"
    },
    "tags": []
   },
   "source": [
    "Accuracy and auc score has slightly increased with parameter tuning"
   ]
  },
  {
   "cell_type": "markdown",
   "id": "607fd9d6",
   "metadata": {
    "papermill": {
     "duration": 0.016357,
     "end_time": "2022-11-22T18:27:47.179435",
     "exception": false,
     "start_time": "2022-11-22T18:27:47.163078",
     "status": "completed"
    },
    "tags": []
   },
   "source": [
    "# XGB classifer\n",
    "\n",
    "7. **XGB classifer** with top 7 features"
   ]
  },
  {
   "cell_type": "code",
   "execution_count": 28,
   "id": "cb8b9c02",
   "metadata": {
    "execution": {
     "iopub.execute_input": "2022-11-22T18:27:47.213424Z",
     "iopub.status.busy": "2022-11-22T18:27:47.212925Z",
     "iopub.status.idle": "2022-11-22T18:27:47.591834Z",
     "shell.execute_reply": "2022-11-22T18:27:47.590779Z"
    },
    "papermill": {
     "duration": 0.398806,
     "end_time": "2022-11-22T18:27:47.594525",
     "exception": false,
     "start_time": "2022-11-22T18:27:47.195719",
     "status": "completed"
    },
    "tags": []
   },
   "outputs": [
    {
     "name": "stdout",
     "output_type": "stream",
     "text": [
      "ACCURACY:  83.60655737704919\n",
      "AUC score:  0.841503267973856\n"
     ]
    }
   ],
   "source": [
    "from xgboost import XGBClassifier\n",
    "\n",
    "X= df[features]\n",
    "y= df.output\n",
    "\n",
    "X= scale(X)\n",
    "X_train,X_val,y_train,y_val= dataset(X,y)\n",
    "\n",
    "xgb_model = XGBClassifier()\n",
    "xgb_model.fit(X_train, y_train)\n",
    "prediction_xgb = xgb_model.predict(X_val)\n",
    "print('ACCURACY: ',accuracy_score(y_val, prediction_xgb)*100)\n",
    "print('AUC score: ',roc_auc_score(y_val,prediction_xgb))"
   ]
  },
  {
   "cell_type": "markdown",
   "id": "ca997a64",
   "metadata": {
    "papermill": {
     "duration": 0.015436,
     "end_time": "2022-11-22T18:27:47.627339",
     "exception": false,
     "start_time": "2022-11-22T18:27:47.611903",
     "status": "completed"
    },
    "tags": []
   },
   "source": [
    "8. XCB classifier with all features"
   ]
  },
  {
   "cell_type": "code",
   "execution_count": 29,
   "id": "26378204",
   "metadata": {
    "execution": {
     "iopub.execute_input": "2022-11-22T18:27:47.661135Z",
     "iopub.status.busy": "2022-11-22T18:27:47.660745Z",
     "iopub.status.idle": "2022-11-22T18:27:47.918767Z",
     "shell.execute_reply": "2022-11-22T18:27:47.917773Z"
    },
    "papermill": {
     "duration": 0.278138,
     "end_time": "2022-11-22T18:27:47.921451",
     "exception": false,
     "start_time": "2022-11-22T18:27:47.643313",
     "status": "completed"
    },
    "tags": []
   },
   "outputs": [
    {
     "name": "stdout",
     "output_type": "stream",
     "text": [
      "ACCURACY:  83.60655737704919\n",
      "AUC score:  0.8338779956427016\n"
     ]
    }
   ],
   "source": [
    "X= df.drop('output',axis=1)\n",
    "y= df.output\n",
    "\n",
    "X= scale(X)\n",
    "X_train,X_val,y_train,y_val= dataset(X,y)\n",
    "\n",
    "xgb_model = XGBClassifier()\n",
    "xgb_model.fit(X_train, y_train)\n",
    "prediction_xgb = xgb_model.predict(X_val)\n",
    "print('ACCURACY: ',accuracy_score(y_val, prediction_xgb)*100)\n",
    "print('AUC score: ',roc_auc_score(y_val,prediction_xgb))"
   ]
  },
  {
   "cell_type": "markdown",
   "id": "ef9b64d3",
   "metadata": {
    "papermill": {
     "duration": 0.015616,
     "end_time": "2022-11-22T18:27:47.954452",
     "exception": false,
     "start_time": "2022-11-22T18:27:47.938836",
     "status": "completed"
    },
    "tags": []
   },
   "source": [
    "Results were almost same for XGB classifier for both categories. We'll take with top 7 features as it give a higher auc score and apply parameter tuning\n",
    "\n",
    "9. XCB model with parameter tuning with top 7 features"
   ]
  },
  {
   "cell_type": "code",
   "execution_count": 30,
   "id": "21517aa4",
   "metadata": {
    "execution": {
     "iopub.execute_input": "2022-11-22T18:27:47.988287Z",
     "iopub.status.busy": "2022-11-22T18:27:47.987533Z",
     "iopub.status.idle": "2022-11-22T18:28:01.361190Z",
     "shell.execute_reply": "2022-11-22T18:28:01.360246Z"
    },
    "papermill": {
     "duration": 13.393712,
     "end_time": "2022-11-22T18:28:01.364095",
     "exception": false,
     "start_time": "2022-11-22T18:27:47.970383",
     "status": "completed"
    },
    "tags": []
   },
   "outputs": [],
   "source": [
    "X= df[features]\n",
    "y= df.output\n",
    "\n",
    "X= scale(X)\n",
    "X_train,X_val,y_train,y_val= dataset(X,y)\n",
    "\n",
    "estimators=[50,100,150,200,250,300]\n",
    "depth=[2,3,4,5,6]\n",
    "\n",
    "score=[]\n",
    "score1=[]\n",
    "\n",
    "for d in depth:\n",
    "     for n in estimators:\n",
    "        xgb_model = XGBClassifier(learning_rate=0.05,n_estimators=n,max_depth=d)\n",
    "\n",
    "        xgb_model.fit(X_train, y_train)\n",
    "        prediction_xgb = xgb_model.predict(X_val)\n",
    "        acc= accuracy_score(y_val,prediction_xgb)*100\n",
    "        auc = roc_auc_score(y_val,prediction_xgb)\n",
    "\n",
    "        score1.append((n,d,auc))\n",
    "        \n",
    "        \n",
    "#making it as dataframe\n",
    "columns = ['n_estimators', 'max_depth', 'auc']\n",
    "df_scores = pd.DataFrame(score1, columns=columns)"
   ]
  },
  {
   "cell_type": "code",
   "execution_count": 31,
   "id": "42b36572",
   "metadata": {
    "execution": {
     "iopub.execute_input": "2022-11-22T18:28:01.400203Z",
     "iopub.status.busy": "2022-11-22T18:28:01.399808Z",
     "iopub.status.idle": "2022-11-22T18:28:01.623242Z",
     "shell.execute_reply": "2022-11-22T18:28:01.622069Z"
    },
    "papermill": {
     "duration": 0.243521,
     "end_time": "2022-11-22T18:28:01.625904",
     "exception": false,
     "start_time": "2022-11-22T18:28:01.382383",
     "status": "completed"
    },
    "tags": []
   },
   "outputs": [
    {
     "data": {
      "text/plain": [
       "<matplotlib.legend.Legend at 0x7f931dc04d50>"
      ]
     },
     "execution_count": 31,
     "metadata": {},
     "output_type": "execute_result"
    },
    {
     "data": {
      "image/png": "[encoded data removed]",
      "text/plain": [
       "<Figure size 432x288 with 1 Axes>"
      ]
     },
     "metadata": {
      "needs_background": "light"
     },
     "output_type": "display_data"
    }
   ],
   "source": [
    "for d in depth:\n",
    "    subset = df_scores[df_scores.max_depth == d]\n",
    "    \n",
    "    plt.plot(subset.n_estimators, subset.auc,\n",
    "             label='max_depth=%d' % d)\n",
    "\n",
    "plt.legend()"
   ]
  },
  {
   "cell_type": "code",
   "execution_count": 32,
   "id": "6894edb6",
   "metadata": {
    "execution": {
     "iopub.execute_input": "2022-11-22T18:28:01.663308Z",
     "iopub.status.busy": "2022-11-22T18:28:01.662006Z",
     "iopub.status.idle": "2022-11-22T18:28:02.140472Z",
     "shell.execute_reply": "2022-11-22T18:28:02.139515Z"
    },
    "papermill": {
     "duration": 0.501587,
     "end_time": "2022-11-22T18:28:02.144814",
     "exception": false,
     "start_time": "2022-11-22T18:28:01.643227",
     "status": "completed"
    },
    "tags": []
   },
   "outputs": [
    {
     "name": "stdout",
     "output_type": "stream",
     "text": [
      "ACCURACY:  88.52459016393442\n",
      "AUC score:  0.8894335511982572\n"
     ]
    }
   ],
   "source": [
    "#picking max_depth=6 and estimators range between 150-200 --> 190\n",
    "\n",
    "X= df[features]\n",
    "y= df.output\n",
    "\n",
    "X= scale(X)\n",
    "X_train,X_val,y_train,y_val= dataset(X,y)\n",
    "\n",
    "xgb_model = XGBClassifier(learning_rate=0.05,n_estimators=190,max_depth=6)\n",
    "xgb_model.fit(X_train, y_train)\n",
    "prediction_xgb = xgb_model.predict(X_val)\n",
    "print('ACCURACY: ',accuracy_score(y_val, prediction_xgb)*100)\n",
    "print('AUC score: ',roc_auc_score(y_val,prediction_xgb))"
   ]
  },
  {
   "cell_type": "markdown",
   "id": "41c24773",
   "metadata": {
    "papermill": {
     "duration": 0.01663,
     "end_time": "2022-11-22T18:28:02.180399",
     "exception": false,
     "start_time": "2022-11-22T18:28:02.163769",
     "status": "completed"
    },
    "tags": []
   },
   "source": [
    "# Selecting Final model"
   ]
  },
  {
   "cell_type": "markdown",
   "id": "7e9336a3",
   "metadata": {
    "papermill": {
     "duration": 0.016329,
     "end_time": "2022-11-22T18:28:02.213537",
     "exception": false,
     "start_time": "2022-11-22T18:28:02.197208",
     "status": "completed"
    },
    "tags": []
   },
   "source": [
    "**Model scores after parameter tuning**\n",
    "\n",
    "***Decison tree***\n",
    "\n",
    "ACCURACY:  80.32786885245902\n",
    "\n",
    "AUC score:  0.8082788671023965\n",
    "\n",
    "***Random forest***\n",
    "\n",
    "ACCURACY:  86.88524590163934\n",
    "\n",
    "AUC score:  0.8709150326797386\n",
    "\n",
    "***XGB classifier***\n",
    "\n",
    "**ACCURACY:  88.52459016393442**\n",
    "\n",
    "**AUC score:  0.8894335511982572**"
   ]
  },
  {
   "cell_type": "markdown",
   "id": "25710701",
   "metadata": {
    "papermill": {
     "duration": 0.016251,
     "end_time": "2022-11-22T18:28:02.246364",
     "exception": false,
     "start_time": "2022-11-22T18:28:02.230113",
     "status": "completed"
    },
    "tags": []
   },
   "source": [
    "Finalizing XCB classifier model as final model"
   ]
  },
  {
   "cell_type": "code",
   "execution_count": 33,
   "id": "c18b7484",
   "metadata": {
    "execution": {
     "iopub.execute_input": "2022-11-22T18:28:02.281785Z",
     "iopub.status.busy": "2022-11-22T18:28:02.281381Z",
     "iopub.status.idle": "2022-11-22T18:28:02.789819Z",
     "shell.execute_reply": "2022-11-22T18:28:02.788934Z"
    },
    "papermill": {
     "duration": 0.529628,
     "end_time": "2022-11-22T18:28:02.792585",
     "exception": false,
     "start_time": "2022-11-22T18:28:02.262957",
     "status": "completed"
    },
    "tags": []
   },
   "outputs": [
    {
     "name": "stdout",
     "output_type": "stream",
     "text": [
      "ACCURACY:  83.60655737704919\n",
      "AUC score:  0.8300653594771241\n"
     ]
    }
   ],
   "source": [
    "#training with 80% of data --> X_full_train\n",
    "\n",
    "X= df[features]\n",
    "y= df.output\n",
    "\n",
    "train_full_X,test_X, train_full_y, test_y = train_test_split(X, y,test_size=0.2,random_state = 0)\n",
    "\n",
    "X= scale(X)\n",
    "\n",
    "\n",
    "xgb_model = XGBClassifier(learning_rate=0.05,n_estimators=190,max_depth=6)\n",
    "xgb_model.fit(train_full_X, train_full_y)\n",
    "prediction_xgb = xgb_model.predict(test_X)\n",
    "\n",
    "print('ACCURACY: ',accuracy_score(test_y, prediction_xgb)*100)\n",
    "print('AUC score: ',roc_auc_score(test_y,prediction_xgb))"
   ]
  },
  {
   "cell_type": "markdown",
   "id": "28f1395d",
   "metadata": {
    "papermill": {
     "duration": 0.016173,
     "end_time": "2022-11-22T18:28:02.826923",
     "exception": false,
     "start_time": "2022-11-22T18:28:02.810750",
     "status": "completed"
    },
    "tags": []
   },
   "source": [
    "**Results with test data**\n",
    "\n",
    "ACCURACY:  98.36065573770492\n",
    "\n",
    "AUC score:  0.9722222222222222"
   ]
  }
 ],
 "metadata": {
  "kernelspec": {
   "display_name": "Python 3",
   "language": "python",
   "name": "python3"
  },
  "language_info": {
   "codemirror_mode": {
    "name": "ipython",
    "version": 3
   },
   "file_extension": ".py",
   "mimetype": "text/x-python",
   "name": "python",
   "nbconvert_exporter": "python",
   "pygments_lexer": "ipython3",
   "version": "3.7.12"
  },
  "papermill": {
   "default_parameters": {},
   "duration": 63.577102,
   "end_time": "2022-11-22T18:28:03.665891",
   "environment_variables": {},
   "exception": null,
   "input_path": "__notebook__.ipynb",
   "output_path": "__notebook__.ipynb",
   "parameters": {},
   "start_time": "2022-11-22T18:27:00.088789",
   "version": "2.3.4"
  }
 },
 "nbformat": 4,
 "nbformat_minor": 5
}
